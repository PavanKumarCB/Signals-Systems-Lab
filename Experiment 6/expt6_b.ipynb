{
 "cells": [
  {
   "cell_type": "code",
   "execution_count": null,
   "metadata": {},
   "outputs": [],
   "source": [
    "from numpy import *\n",
    "import matplotlib.pyplot as plt"
   ]
  },
  {
   "cell_type": "code",
   "execution_count": null,
   "metadata": {},
   "outputs": [],
   "source": [
    "t = linspace(-2*pi, 2*pi, 200)\n",
    "f1 = 400\n",
    "f2 = 4000\n",
    "y1 = sin(2*pi*f1*t)\n",
    "y2 = sin(2*pi*f2*t)\n",
    "auto_corr_y1 = correlate(y1,y1, mode='full')\n",
    "auto_corr_y2 = correlate(y2,y2,mode='full')"
   ]
  },
  {
   "cell_type": "code",
   "execution_count": null,
   "metadata": {},
   "outputs": [],
   "source": [
    "lag = arange(-len(y1)+1, len(y1))"
   ]
  },
  {
   "cell_type": "code",
   "execution_count": null,
   "metadata": {},
   "outputs": [],
   "source": [
    "plt.plot(lag, auto_corr_y1, color='black')\n",
    "plt.title('Auto correlation of signal of 400 Hz')\n",
    "plt.xlabel('Lag')\n",
    "plt.ylabel('Auto correlation')"
   ]
  },
  {
   "cell_type": "code",
   "execution_count": null,
   "metadata": {},
   "outputs": [],
   "source": [
    "plt.plot(lag, auto_corr_y2, color=\"black\")\n",
    "plt.title('Auto correlation of signal of 4000 Hz')\n",
    "plt.xlabel('Lag')\n",
    "plt.ylabel('Auto correlation')"
   ]
  }
 ],
 "metadata": {
  "kernelspec": {
   "display_name": "base",
   "language": "python",
   "name": "python3"
  },
  "language_info": {
   "codemirror_mode": {
    "name": "ipython",
    "version": 3
   },
   "file_extension": ".py",
   "mimetype": "text/x-python",
   "name": "python",
   "nbconvert_exporter": "python",
   "pygments_lexer": "ipython3",
   "version": "3.10.9"
  },
  "orig_nbformat": 4
 },
 "nbformat": 4,
 "nbformat_minor": 2
}
