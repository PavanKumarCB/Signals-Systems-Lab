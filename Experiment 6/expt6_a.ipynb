{
 "cells": [
  {
   "cell_type": "code",
   "execution_count": null,
   "metadata": {},
   "outputs": [],
   "source": [
    "from numpy import *\n",
    "import matplotlib.pyplot as plt"
   ]
  },
  {
   "cell_type": "code",
   "execution_count": null,
   "metadata": {},
   "outputs": [],
   "source": [
    "t = linspace(-2*pi, 2*pi, 200)\n",
    "y1 = sin(t)\n",
    "y2 = sin(2.*t)\n",
    "cross_corr = correlate(y1,y2, mode='full')\n",
    "auto_corr = correlate(y1,y1,mode='full')"
   ]
  },
  {
   "cell_type": "code",
   "execution_count": null,
   "metadata": {},
   "outputs": [],
   "source": [
    "lag = arange(-len(y1)+1, len(y1))"
   ]
  },
  {
   "cell_type": "code",
   "execution_count": null,
   "metadata": {},
   "outputs": [],
   "source": [
    "plt.plot(lag, cross_corr, color='black')\n",
    "plt.title('Cross correlation of two sine signals')\n",
    "plt.xlabel('Lag')\n",
    "plt.ylabel('Cross correlation')"
   ]
  },
  {
   "cell_type": "code",
   "execution_count": null,
   "metadata": {},
   "outputs": [],
   "source": [
    "plt.plot(lag, auto_corr, color='black')\n",
    "plt.title('Auto correlation of sine signal')\n",
    "plt.xlabel('Lag')\n",
    "plt.ylabel('Auto correlation')\n"
   ]
  }
 ],
 "metadata": {
  "kernelspec": {
   "display_name": "base",
   "language": "python",
   "name": "python3"
  },
  "language_info": {
   "codemirror_mode": {
    "name": "ipython",
    "version": 3
   },
   "file_extension": ".py",
   "mimetype": "text/x-python",
   "name": "python",
   "nbconvert_exporter": "python",
   "pygments_lexer": "ipython3",
   "version": "3.10.9"
  },
  "orig_nbformat": 4
 },
 "nbformat": 4,
 "nbformat_minor": 2
}
