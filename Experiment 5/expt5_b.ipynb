{
 "cells": [
  {
   "cell_type": "code",
   "execution_count": null,
   "metadata": {},
   "outputs": [],
   "source": [
    "from numpy import *\n",
    "import matplotlib.pyplot as plt"
   ]
  },
  {
   "cell_type": "code",
   "execution_count": null,
   "metadata": {},
   "outputs": [],
   "source": [
    "t = arange(-2*pi, 2*pi, 0.01)\n",
    "f1 = 400\n",
    "f2 = 4000\n",
    "y1 = sin(2*pi*f1*t)\n",
    "y2 = sin(2*pi*f2*t)\n",
    "Y = convolve(y1, y2)\n",
    "plt.plot(Y)\n",
    "plt.xlabel('time')\n",
    "plt.ylabel('Magnitude')\n",
    "plt.title('Convolution of two sinusoidal signals')"
   ]
  }
 ],
 "metadata": {
  "kernelspec": {
   "display_name": "base",
   "language": "python",
   "name": "python3"
  },
  "language_info": {
   "codemirror_mode": {
    "name": "ipython",
    "version": 3
   },
   "file_extension": ".py",
   "mimetype": "text/x-python",
   "name": "python",
   "nbconvert_exporter": "python",
   "pygments_lexer": "ipython3",
   "version": "3.10.9"
  },
  "orig_nbformat": 4
 },
 "nbformat": 4,
 "nbformat_minor": 2
}
